{
 "cells": [
  {
   "cell_type": "code",
   "execution_count": 3,
   "id": "ef0b947f",
   "metadata": {},
   "outputs": [
    {
     "name": "stdout",
     "output_type": "stream",
     "text": [
      "[0.0067937937792934494, 0.006974938421125069, 0.29546476431015783, 1.0]\n"
     ]
    }
   ],
   "source": [
    "# a =  0.4420450177378683\n",
    "# b = 0.010690629668597906\n",
    "# c = 0.060119161083589945\n",
    "\n",
    "a =  0.009642943936851278\n",
    "b = 0.0002571122530929948\n",
    "c = 0.4094753693994586\n",
    "\n",
    "x = a + b + c + 1.0\n",
    "w1 = a / x\n",
    "w2 = (a + b) / x\n",
    "w3 = (a + b + c) / x\n",
    "w4 = 1.0\n",
    "weights = [w1, w2, w3, w4]\n",
    "print(weights)"
   ]
  },
  {
   "cell_type": "code",
   "execution_count": 12,
   "id": "388cfc54",
   "metadata": {},
   "outputs": [
    {
     "name": "stdout",
     "output_type": "stream",
     "text": [
      "Min Step-2 loss 4.244495 occurred at iteration index 1133\n"
     ]
    }
   ],
   "source": [
    "# assume you already have step_2_losses from your find_min_s2_loss logic\n",
    "# e.g.:\n",
    "import re\n",
    "\n",
    "log_path = '/home/cherish/SADD/sfd-main/exps/00054-cifar10-4-3-dpmpp-3-poly7.0/log.txt'\n",
    "all_losses = [[] for _ in range(3)]\n",
    "pattern = re.compile(r\"Step:\\s*(\\d+)\\s*\\|\\s*Loss-mean:\\s*([0-9]+\\.[0-9]+)\")\n",
    "with open(log_path, 'r') as f:\n",
    "    for line in f:\n",
    "        m = pattern.search(line)\n",
    "        if m:\n",
    "            step = int(m.group(1))\n",
    "            loss = float(m.group(2))\n",
    "            if 0 <= step < 3:\n",
    "                all_losses[step].append(loss)\n",
    "\n",
    "step_2_losses = all_losses[2]\n",
    "\n",
    "# now find the min and its iteration index\n",
    "min_loss = min(step_2_losses)\n",
    "min_iter = step_2_losses.index(min_loss)\n",
    "print(f\"Min Step-2 loss {min_loss:.6f} occurred at iteration index {min_iter}\")"
   ]
  },
  {
   "cell_type": "code",
   "execution_count": 10,
   "id": "98858f80",
   "metadata": {},
   "outputs": [
    {
     "name": "stdout",
     "output_type": "stream",
     "text": [
      "1563\n"
     ]
    },
    {
     "data": {
      "text/plain": [
       "4.24449539"
      ]
     },
     "execution_count": 10,
     "metadata": {},
     "output_type": "execute_result"
    }
   ],
   "source": [
    "find_min_s2_loss(\"/home/cherish/SADD/sfd-main/exps/00054-cifar10-4-3-dpmpp-3-poly7.0/log.txt\")"
   ]
  },
  {
   "cell_type": "code",
   "execution_count": null,
   "id": "cf837064",
   "metadata": {},
   "outputs": [],
   "source": []
  }
 ],
 "metadata": {
  "kernelspec": {
   "display_name": "sadd",
   "language": "python",
   "name": "python3"
  },
  "language_info": {
   "codemirror_mode": {
    "name": "ipython",
    "version": 3
   },
   "file_extension": ".py",
   "mimetype": "text/x-python",
   "name": "python",
   "nbconvert_exporter": "python",
   "pygments_lexer": "ipython3",
   "version": "3.9.23"
  }
 },
 "nbformat": 4,
 "nbformat_minor": 5
}
